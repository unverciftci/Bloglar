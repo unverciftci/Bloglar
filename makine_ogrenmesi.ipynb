{
  "cells": [
    {
      "cell_type": "markdown",
      "metadata": {
        "id": "view-in-github",
        "colab_type": "text"
      },
      "source": [
        "<a href=\"https://colab.research.google.com/github/unverciftci/Bloglar/blob/main/makine_ogrenmesi.ipynb\" target=\"_parent\"><img src=\"https://colab.research.google.com/assets/colab-badge.svg\" alt=\"Open In Colab\"/></a>"
      ]
    },
    {
      "cell_type": "code",
      "execution_count": null,
      "id": "0c8b7afc",
      "metadata": {
        "id": "0c8b7afc"
      },
      "outputs": [],
      "source": [
        "Yapay Zekaya Giriş"
      ]
    },
    {
      "cell_type": "markdown",
      "id": "6625cbab",
      "metadata": {
        "id": "6625cbab"
      },
      "source": [
        "## Figure 1.1:<a name='1.1'></a> <a name='iris'></a> "
      ]
    },
    {
      "cell_type": "markdown",
      "id": "6f0a27ff",
      "metadata": {
        "id": "6f0a27ff"
      },
      "source": [
        "\n",
        " Three types of Iris flowers: Setosa, Versicolor and Virginica. Used with kind permission of Dennis Kramb and SIGNA"
      ]
    },
    {
      "cell_type": "code",
      "execution_count": null,
      "id": "94e1a851",
      "metadata": {
        "id": "94e1a851"
      },
      "outputs": [],
      "source": [
        "#@title Click me to run setup { display-mode: \"form\" }\n",
        "try:\n",
        "  if PYPROBML_SETUP_ALREADY_RUN:\n",
        "    print('skipping setup')\n",
        "except:\n",
        "  PYPROBML_SETUP_ALREADY_RUN = True\n",
        "  print('running setup...')\n",
        "  !git clone --depth 1 https://github.com/probml/pyprobml  /pyprobml &> /dev/null \n",
        "  %cd -q /pyprobml/scripts\n",
        "  %reload_ext autoreload \n",
        "  %autoreload 2\n",
        "  !pip install superimport deimport -qqq\n",
        "  import superimport\n",
        "def try_deimport():\n",
        "  try: \n",
        "    from deimport.deimport import deimport\n",
        "    deimport(superimport)\n",
        "  except Exception as e:\n",
        "    print(e)\n",
        "  print('finished!')"
      ]
    },
    {
      "cell_type": "markdown",
      "id": "55a6ba81",
      "metadata": {
        "id": "55a6ba81"
      },
      "source": [
        "<img src=\"https://raw.githubusercontent.com/probml/pml-book/main/pml1/figures/images/Figure_1.1_A.png\" width=\"256\"/>"
      ]
    },
    {
      "cell_type": "markdown",
      "id": "760efe34",
      "metadata": {
        "id": "760efe34"
      },
      "source": [
        "<img src=\"https://raw.githubusercontent.com/probml/pml-book/main/pml1/figures/images/Figure_1.1_B.png\" width=\"256\"/>"
      ]
    },
    {
      "cell_type": "markdown",
      "id": "fb040ec9",
      "metadata": {
        "id": "fb040ec9"
      },
      "source": [
        "<img src=\"https://raw.githubusercontent.com/probml/pml-book/main/pml1/figures/images/Figure_1.1_C.png\" width=\"256\"/>"
      ]
    },
    {
      "cell_type": "markdown",
      "id": "32cd9fa7",
      "metadata": {
        "id": "32cd9fa7"
      },
      "source": [
        "## Figure 1.2:<a name='1.2'></a> <a name='cat'></a> "
      ]
    },
    {
      "cell_type": "markdown",
      "id": "42986d2e",
      "metadata": {
        "id": "42986d2e"
      },
      "source": [
        "\n",
        " Illustration of the image classification problem. From  https://cs231n.github.io/ . Used with kind permission of Andrej Karpathy"
      ]
    },
    {
      "cell_type": "code",
      "execution_count": null,
      "metadata": {
        "id": "VqnCMB_inv3U"
      },
      "outputs": [],
      "source": [
        "#@title Click me to run setup { display-mode: \"form\" }\n",
        "try:\n",
        "  if PYPROBML_SETUP_ALREADY_RUN:\n",
        "    print('skipping setup')\n",
        "except:\n",
        "  PYPROBML_SETUP_ALREADY_RUN = True\n",
        "  print('running setup...')\n",
        "  !git clone --depth 1 https://github.com/probml/pyprobml  /pyprobml &> /dev/null \n",
        "  %cd -q /pyprobml/scripts\n",
        "  %reload_ext autoreload \n",
        "  %autoreload 2\n",
        "  !pip install superimport deimport -qqq\n",
        "  import superimport\n",
        "def try_deimport():\n",
        "  try: \n",
        "    from deimport.deimport import deimport\n",
        "    deimport(superimport)\n",
        "  except Exception as e:\n",
        "    print(e)\n",
        "  print('finished!')"
      ],
      "id": "VqnCMB_inv3U"
    },
    {
      "cell_type": "markdown",
      "id": "d88cbbf9",
      "metadata": {
        "id": "d88cbbf9"
      },
      "source": [
        "<img src=\"https://raw.githubusercontent.com/probml/pml-book/main/pml1/figures/images/Figure_1.2.png\" width=\"256\"/>"
      ]
    },
    {
      "cell_type": "markdown",
      "id": "62b74cc6",
      "metadata": {
        "id": "62b74cc6"
      },
      "source": [
        "## Figure 1.3:<a name='1.3'></a> <a name='irisPairs'></a> "
      ]
    },
    {
      "cell_type": "markdown",
      "id": "df7edebb",
      "metadata": {
        "id": "df7edebb"
      },
      "source": [
        "\n",
        " Visualization of the Iris data as a pairwise scatter plot. On the diagonal we plot the marginal distribution of each feature for each class. The off-diagonals contain scatterplots of all possible pairs of features.  \n",
        "Figure(s) generated by [iris_plot.py](https://github.com/probml/pyprobml/blob/master/scripts/iris_plot.py) "
      ]
    },
    {
      "cell_type": "code",
      "execution_count": null,
      "metadata": {
        "id": "lCU9RKlnnv3V"
      },
      "outputs": [],
      "source": [
        "#@title Click me to run setup { display-mode: \"form\" }\n",
        "try:\n",
        "  if PYPROBML_SETUP_ALREADY_RUN:\n",
        "    print('skipping setup')\n",
        "except:\n",
        "  PYPROBML_SETUP_ALREADY_RUN = True\n",
        "  print('running setup...')\n",
        "  !git clone --depth 1 https://github.com/probml/pyprobml  /pyprobml &> /dev/null \n",
        "  %cd -q /pyprobml/scripts\n",
        "  %reload_ext autoreload \n",
        "  %autoreload 2\n",
        "  !pip install superimport deimport -qqq\n",
        "  import superimport\n",
        "def try_deimport():\n",
        "  try: \n",
        "    from deimport.deimport import deimport\n",
        "    deimport(superimport)\n",
        "  except Exception as e:\n",
        "    print(e)\n",
        "  print('finished!')"
      ],
      "id": "lCU9RKlnnv3V"
    },
    {
      "cell_type": "code",
      "execution_count": null,
      "id": "32883a76",
      "metadata": {
        "id": "32883a76"
      },
      "outputs": [],
      "source": [
        "try_deimport()\n",
        "%run -n iris_plot.py"
      ]
    },
    {
      "cell_type": "markdown",
      "id": "14957330",
      "metadata": {
        "id": "14957330"
      },
      "source": [
        "## Figure 1.4:<a name='1.4'></a> <a name='dtreeIrisDepth2'></a> "
      ]
    },
    {
      "cell_type": "markdown",
      "id": "02359f23",
      "metadata": {
        "id": "02359f23"
      },
      "source": [
        "\n",
        " Example of a decision tree of depth 2 applied to the Iris data, using just the petal length and petal width features. Leaf nodes are color coded according to the predicted class. The number of training samples that pass from the root to a node is shown inside each box; we show how many values of each class fall into this node. This vector of counts can be normalized to get a distribution over class labels for each node. We can then pick the majority class. Adapted from Figures 6.1 and 6.2 of <a href='#Geron2019'>[Aur19]</a> . "
      ]
    },
    {
      "cell_type": "markdown",
      "id": "da992bb0",
      "metadata": {
        "id": "da992bb0"
      },
      "source": [
        "To reproduce this figure, click the open in colab button: <a href=\"https://colab.research.google.com/github/probml/probml-notebooks/blob/master/notebooks/iris_dtree.ipynb\" target=\"_parent\"><img src=\"https://colab.research.google.com/assets/colab-badge.svg\" alt=\"Open In Colab\"/></a>"
      ]
    },
    {
      "cell_type": "code",
      "execution_count": null,
      "metadata": {
        "id": "3QcAJaZUnv3W"
      },
      "outputs": [],
      "source": [
        "#@title Click me to run setup { display-mode: \"form\" }\n",
        "try:\n",
        "  if PYPROBML_SETUP_ALREADY_RUN:\n",
        "    print('skipping setup')\n",
        "except:\n",
        "  PYPROBML_SETUP_ALREADY_RUN = True\n",
        "  print('running setup...')\n",
        "  !git clone --depth 1 https://github.com/probml/pyprobml  /pyprobml &> /dev/null \n",
        "  %cd -q /pyprobml/scripts\n",
        "  %reload_ext autoreload \n",
        "  %autoreload 2\n",
        "  !pip install superimport deimport -qqq\n",
        "  import superimport\n",
        "def try_deimport():\n",
        "  try: \n",
        "    from deimport.deimport import deimport\n",
        "    deimport(superimport)\n",
        "  except Exception as e:\n",
        "    print(e)\n",
        "  print('finished!')"
      ],
      "id": "3QcAJaZUnv3W"
    },
    {
      "cell_type": "markdown",
      "id": "f2f05ccb",
      "metadata": {
        "id": "f2f05ccb"
      },
      "source": [
        "<img src=\"https://raw.githubusercontent.com/probml/pml-book/main/pml1/figures/images/Figure_1.4_A.png\" width=\"256\"/>"
      ]
    },
    {
      "cell_type": "markdown",
      "id": "7a6aaff1",
      "metadata": {
        "id": "7a6aaff1"
      },
      "source": [
        "<img src=\"https://raw.githubusercontent.com/probml/pml-book/main/pml1/figures/images/Figure_1.4_B.png\" width=\"256\"/>"
      ]
    },
    {
      "cell_type": "markdown",
      "id": "68c6ad43",
      "metadata": {
        "id": "68c6ad43"
      },
      "source": [
        "## Figure 1.5:<a name='1.5'></a> <a name='linreg'></a> "
      ]
    },
    {
      "cell_type": "markdown",
      "id": "d087bfde",
      "metadata": {
        "id": "d087bfde"
      },
      "source": [
        "\n",
        "(a) Linear regression on some 1d data. (b) The vertical lines denote the residuals between the observed output value for each input (blue circle) and its predicted value (red cross). The goal of least squares regression is to pick a line that minimizes the sum of squared residuals.  \n",
        "Figure(s) generated by [linreg_residuals_plot.py](https://github.com/probml/pyprobml/blob/master/scripts/linreg_residuals_plot.py) "
      ]
    },
    {
      "cell_type": "code",
      "execution_count": null,
      "metadata": {
        "id": "r_3b6QDynv3W"
      },
      "outputs": [],
      "source": [
        "#@title Click me to run setup { display-mode: \"form\" }\n",
        "try:\n",
        "  if PYPROBML_SETUP_ALREADY_RUN:\n",
        "    print('skipping setup')\n",
        "except:\n",
        "  PYPROBML_SETUP_ALREADY_RUN = True\n",
        "  print('running setup...')\n",
        "  !git clone --depth 1 https://github.com/probml/pyprobml  /pyprobml &> /dev/null \n",
        "  %cd -q /pyprobml/scripts\n",
        "  %reload_ext autoreload \n",
        "  %autoreload 2\n",
        "  !pip install superimport deimport -qqq\n",
        "  import superimport\n",
        "def try_deimport():\n",
        "  try: \n",
        "    from deimport.deimport import deimport\n",
        "    deimport(superimport)\n",
        "  except Exception as e:\n",
        "    print(e)\n",
        "  print('finished!')"
      ],
      "id": "r_3b6QDynv3W"
    },
    {
      "cell_type": "code",
      "execution_count": null,
      "id": "c98eab2c",
      "metadata": {
        "id": "c98eab2c"
      },
      "outputs": [],
      "source": [
        "try_deimport()\n",
        "%run -n linreg_residuals_plot.py"
      ]
    },
    {
      "cell_type": "markdown",
      "id": "80f75049",
      "metadata": {
        "id": "80f75049"
      },
      "source": [
        "## Figure 1.6:<a name='1.6'></a> <a name='polyfit2d'></a> "
      ]
    },
    {
      "cell_type": "markdown",
      "id": "64a1e1c8",
      "metadata": {
        "id": "64a1e1c8"
      },
      "source": [
        "\n",
        " Linear and polynomial regression applied to 2d data. Vertical axis is temperature, horizontal axes are location within a room. Data was collected by some remote sensing motes at Intel's lab in Berkeley, CA (data courtesy of Romain Thibaux). (a) The fitted plane has the form $ f ( \\bm x  ) = w_0 + w_1 x_1 + w_2 x_2$. (b) Temperature data is fitted with a quadratic of the form $ f ( \\bm x  ) = w_0 + w_1 x_1 + w_2 x_2 + w_3 x_1^2 + w_4 x_2^2$.  \n",
        "Figure(s) generated by [linreg_2d_surface_demo.py](https://github.com/probml/pyprobml/blob/master/scripts/linreg_2d_surface_demo.py) "
      ]
    },
    {
      "cell_type": "code",
      "execution_count": null,
      "metadata": {
        "id": "i1Kpw96hnv3X"
      },
      "outputs": [],
      "source": [
        "#@title Click me to run setup { display-mode: \"form\" }\n",
        "try:\n",
        "  if PYPROBML_SETUP_ALREADY_RUN:\n",
        "    print('skipping setup')\n",
        "except:\n",
        "  PYPROBML_SETUP_ALREADY_RUN = True\n",
        "  print('running setup...')\n",
        "  !git clone --depth 1 https://github.com/probml/pyprobml  /pyprobml &> /dev/null \n",
        "  %cd -q /pyprobml/scripts\n",
        "  %reload_ext autoreload \n",
        "  %autoreload 2\n",
        "  !pip install superimport deimport -qqq\n",
        "  import superimport\n",
        "def try_deimport():\n",
        "  try: \n",
        "    from deimport.deimport import deimport\n",
        "    deimport(superimport)\n",
        "  except Exception as e:\n",
        "    print(e)\n",
        "  print('finished!')"
      ],
      "id": "i1Kpw96hnv3X"
    },
    {
      "cell_type": "code",
      "execution_count": null,
      "id": "68322f2a",
      "metadata": {
        "id": "68322f2a"
      },
      "outputs": [],
      "source": [
        "try_deimport()\n",
        "%run -n linreg_2d_surface_demo.py"
      ]
    },
    {
      "cell_type": "markdown",
      "id": "71c2c8b9",
      "metadata": {
        "id": "71c2c8b9"
      },
      "source": [
        "## Figure 1.7:<a name='1.7'></a> <a name='linregPoly'></a> "
      ]
    },
    {
      "cell_type": "markdown",
      "id": "d5c2c819",
      "metadata": {
        "id": "d5c2c819"
      },
      "source": [
        "\n",
        "(a-c) Polynomials of degrees 2, 14 and 20 fit to 21 datapoints (the same data as in \\cref fig:linreg ). (d) MSE vs degree.  \n",
        "Figure(s) generated by [linreg_poly_vs_degree.py](https://github.com/probml/pyprobml/blob/master/scripts/linreg_poly_vs_degree.py) "
      ]
    },
    {
      "cell_type": "code",
      "execution_count": null,
      "metadata": {
        "id": "2ReguMX6nv3Y"
      },
      "outputs": [],
      "source": [
        "#@title Click me to run setup { display-mode: \"form\" }\n",
        "try:\n",
        "  if PYPROBML_SETUP_ALREADY_RUN:\n",
        "    print('skipping setup')\n",
        "except:\n",
        "  PYPROBML_SETUP_ALREADY_RUN = True\n",
        "  print('running setup...')\n",
        "  !git clone --depth 1 https://github.com/probml/pyprobml  /pyprobml &> /dev/null \n",
        "  %cd -q /pyprobml/scripts\n",
        "  %reload_ext autoreload \n",
        "  %autoreload 2\n",
        "  !pip install superimport deimport -qqq\n",
        "  import superimport\n",
        "def try_deimport():\n",
        "  try: \n",
        "    from deimport.deimport import deimport\n",
        "    deimport(superimport)\n",
        "  except Exception as e:\n",
        "    print(e)\n",
        "  print('finished!')"
      ],
      "id": "2ReguMX6nv3Y"
    },
    {
      "cell_type": "code",
      "execution_count": null,
      "id": "40a93e38",
      "metadata": {
        "id": "40a93e38"
      },
      "outputs": [],
      "source": [
        "try_deimport()\n",
        "%run -n linreg_poly_vs_degree.py"
      ]
    },
    {
      "cell_type": "markdown",
      "id": "50d278af",
      "metadata": {
        "id": "50d278af"
      },
      "source": [
        "## Figure 1.8:<a name='1.8'></a> <a name='eqn:irisClustering'></a> "
      ]
    },
    {
      "cell_type": "markdown",
      "id": "505e0be5",
      "metadata": {
        "id": "505e0be5"
      },
      "source": [
        "\n",
        "(a) A scatterplot of the petal features from the iris dataset. (b) The result of unsupervised clustering using $K=3$.  \n",
        "Figure(s) generated by [iris_kmeans.py](https://github.com/probml/pyprobml/blob/master/scripts/iris_kmeans.py) "
      ]
    },
    {
      "cell_type": "code",
      "execution_count": null,
      "metadata": {
        "id": "jw0XMhGInv3Y"
      },
      "outputs": [],
      "source": [
        "#@title Click me to run setup { display-mode: \"form\" }\n",
        "try:\n",
        "  if PYPROBML_SETUP_ALREADY_RUN:\n",
        "    print('skipping setup')\n",
        "except:\n",
        "  PYPROBML_SETUP_ALREADY_RUN = True\n",
        "  print('running setup...')\n",
        "  !git clone --depth 1 https://github.com/probml/pyprobml  /pyprobml &> /dev/null \n",
        "  %cd -q /pyprobml/scripts\n",
        "  %reload_ext autoreload \n",
        "  %autoreload 2\n",
        "  !pip install superimport deimport -qqq\n",
        "  import superimport\n",
        "def try_deimport():\n",
        "  try: \n",
        "    from deimport.deimport import deimport\n",
        "    deimport(superimport)\n",
        "  except Exception as e:\n",
        "    print(e)\n",
        "  print('finished!')"
      ],
      "id": "jw0XMhGInv3Y"
    },
    {
      "cell_type": "code",
      "execution_count": null,
      "id": "e1b10c0e",
      "metadata": {
        "id": "e1b10c0e"
      },
      "outputs": [],
      "source": [
        "try_deimport()\n",
        "%run -n iris_kmeans.py"
      ]
    },
    {
      "cell_type": "markdown",
      "id": "8a0de74b",
      "metadata": {
        "id": "8a0de74b"
      },
      "source": [
        "## Figure 1.9:<a name='1.9'></a> <a name='pcaDemo'></a> "
      ]
    },
    {
      "cell_type": "markdown",
      "id": "9ee08db8",
      "metadata": {
        "id": "9ee08db8"
      },
      "source": [
        "\n",
        "(a) Scatterplot of iris data (first 3 features). Points are color coded by class. (b) We fit a 2d linear subspace to the 3d data using PCA. The class labels are ignored. Red dots are the original data, black dots are points generated from the model using $  \\bm x    = \\mathbf W  \\bm z  +  \\bm \\mu   $, where $ \\bm z  $ are latent points on the underlying inferred 2d linear manifold.  \n",
        "Figure(s) generated by [iris_pca.py](https://github.com/probml/pyprobml/blob/master/scripts/iris_pca.py) "
      ]
    },
    {
      "cell_type": "code",
      "execution_count": null,
      "metadata": {
        "id": "KhX1xyINnv3Z"
      },
      "outputs": [],
      "source": [
        "#@title Click me to run setup { display-mode: \"form\" }\n",
        "try:\n",
        "  if PYPROBML_SETUP_ALREADY_RUN:\n",
        "    print('skipping setup')\n",
        "except:\n",
        "  PYPROBML_SETUP_ALREADY_RUN = True\n",
        "  print('running setup...')\n",
        "  !git clone --depth 1 https://github.com/probml/pyprobml  /pyprobml &> /dev/null \n",
        "  %cd -q /pyprobml/scripts\n",
        "  %reload_ext autoreload \n",
        "  %autoreload 2\n",
        "  !pip install superimport deimport -qqq\n",
        "  import superimport\n",
        "def try_deimport():\n",
        "  try: \n",
        "    from deimport.deimport import deimport\n",
        "    deimport(superimport)\n",
        "  except Exception as e:\n",
        "    print(e)\n",
        "  print('finished!')"
      ],
      "id": "KhX1xyINnv3Z"
    },
    {
      "cell_type": "code",
      "execution_count": null,
      "id": "02de0528",
      "metadata": {
        "id": "02de0528"
      },
      "outputs": [],
      "source": [
        "try_deimport()\n",
        "%run -n iris_pca.py"
      ]
    },
    {
      "cell_type": "markdown",
      "id": "51116c69",
      "metadata": {
        "id": "51116c69"
      },
      "source": [
        "## Figure 1.10:<a name='1.10'></a> <a name='humanoid'></a> "
      ]
    },
    {
      "cell_type": "markdown",
      "id": "91f66ae1",
      "metadata": {
        "id": "91f66ae1"
      },
      "source": [
        "\n",
        " Examples of some control problems. (a) Space Invaders Atari game. From  https://gym.openai.com/envs/SpaceInvaders-v0/ . (b) Controlling a humanoid robot in the MuJuCo simulator so it walks as fast as possible without falling over. From  https://gym.openai.com/envs/Humanoid-v2/ "
      ]
    },
    {
      "cell_type": "code",
      "execution_count": null,
      "metadata": {
        "id": "0PTXWgNDnv3Z"
      },
      "outputs": [],
      "source": [
        "#@title Click me to run setup { display-mode: \"form\" }\n",
        "try:\n",
        "  if PYPROBML_SETUP_ALREADY_RUN:\n",
        "    print('skipping setup')\n",
        "except:\n",
        "  PYPROBML_SETUP_ALREADY_RUN = True\n",
        "  print('running setup...')\n",
        "  !git clone --depth 1 https://github.com/probml/pyprobml  /pyprobml &> /dev/null \n",
        "  %cd -q /pyprobml/scripts\n",
        "  %reload_ext autoreload \n",
        "  %autoreload 2\n",
        "  !pip install superimport deimport -qqq\n",
        "  import superimport\n",
        "def try_deimport():\n",
        "  try: \n",
        "    from deimport.deimport import deimport\n",
        "    deimport(superimport)\n",
        "  except Exception as e:\n",
        "    print(e)\n",
        "  print('finished!')"
      ],
      "id": "0PTXWgNDnv3Z"
    },
    {
      "cell_type": "markdown",
      "id": "2b50f1ed",
      "metadata": {
        "id": "2b50f1ed"
      },
      "source": [
        "<img src=\"https://raw.githubusercontent.com/probml/pml-book/main/pml1/figures/images/Figure_1.10_A.png\" width=\"256\"/>"
      ]
    },
    {
      "cell_type": "markdown",
      "id": "462335ae",
      "metadata": {
        "id": "462335ae"
      },
      "source": [
        "<img src=\"https://raw.githubusercontent.com/probml/pml-book/main/pml1/figures/images/Figure_1.10_B.png\" width=\"256\"/>"
      ]
    },
    {
      "cell_type": "markdown",
      "id": "4378c8b9",
      "metadata": {
        "id": "4378c8b9"
      },
      "source": [
        "## Figure 1.11:<a name='1.11'></a> <a name='cake'></a> "
      ]
    },
    {
      "cell_type": "markdown",
      "id": "e55aee23",
      "metadata": {
        "id": "e55aee23"
      },
      "source": [
        "\n",
        " The three types of machine learning visualized as layers of a chocolate cake. This figure (originally from  https://bit.ly/2m65Vs1 ) was used in a talk by Yann LeCun at NIPS'16, and is used with his kind permission"
      ]
    },
    {
      "cell_type": "code",
      "execution_count": null,
      "metadata": {
        "id": "MSRo60XHnv3a"
      },
      "outputs": [],
      "source": [
        "#@title Click me to run setup { display-mode: \"form\" }\n",
        "try:\n",
        "  if PYPROBML_SETUP_ALREADY_RUN:\n",
        "    print('skipping setup')\n",
        "except:\n",
        "  PYPROBML_SETUP_ALREADY_RUN = True\n",
        "  print('running setup...')\n",
        "  !git clone --depth 1 https://github.com/probml/pyprobml  /pyprobml &> /dev/null \n",
        "  %cd -q /pyprobml/scripts\n",
        "  %reload_ext autoreload \n",
        "  %autoreload 2\n",
        "  !pip install superimport deimport -qqq\n",
        "  import superimport\n",
        "def try_deimport():\n",
        "  try: \n",
        "    from deimport.deimport import deimport\n",
        "    deimport(superimport)\n",
        "  except Exception as e:\n",
        "    print(e)\n",
        "  print('finished!')"
      ],
      "id": "MSRo60XHnv3a"
    },
    {
      "cell_type": "markdown",
      "id": "b0a30ecd",
      "metadata": {
        "id": "b0a30ecd"
      },
      "source": [
        "<img src=\"https://raw.githubusercontent.com/probml/pml-book/main/pml1/figures/images/Figure_1.11.png\" width=\"256\"/>"
      ]
    },
    {
      "cell_type": "markdown",
      "id": "5be84027",
      "metadata": {
        "id": "5be84027"
      },
      "source": [
        "## Figure 1.12:<a name='1.12'></a> <a name='emnist'></a> "
      ]
    },
    {
      "cell_type": "markdown",
      "id": "ed51dd11",
      "metadata": {
        "id": "ed51dd11"
      },
      "source": [
        "\n",
        "(a) Visualization of the MNIST dataset. Each image is $28 \\times 28$. There are 60k training examples and 10k test examples. We show the first 25 images from the training set.  \n",
        "Figure(s) generated by [mnist_viz_tf.py](https://github.com/probml/pyprobml/blob/master/scripts/mnist_viz_tf.py) [emnist_viz_pytorch.py](https://github.com/probml/pyprobml/blob/master/scripts/emnist_viz_pytorch.py) "
      ]
    },
    {
      "cell_type": "code",
      "execution_count": null,
      "metadata": {
        "id": "QrWF0sSGnv3b"
      },
      "outputs": [],
      "source": [
        "#@title Click me to run setup { display-mode: \"form\" }\n",
        "try:\n",
        "  if PYPROBML_SETUP_ALREADY_RUN:\n",
        "    print('skipping setup')\n",
        "except:\n",
        "  PYPROBML_SETUP_ALREADY_RUN = True\n",
        "  print('running setup...')\n",
        "  !git clone --depth 1 https://github.com/probml/pyprobml  /pyprobml &> /dev/null \n",
        "  %cd -q /pyprobml/scripts\n",
        "  %reload_ext autoreload \n",
        "  %autoreload 2\n",
        "  !pip install superimport deimport -qqq\n",
        "  import superimport\n",
        "def try_deimport():\n",
        "  try: \n",
        "    from deimport.deimport import deimport\n",
        "    deimport(superimport)\n",
        "  except Exception as e:\n",
        "    print(e)\n",
        "  print('finished!')"
      ],
      "id": "QrWF0sSGnv3b"
    },
    {
      "cell_type": "code",
      "execution_count": null,
      "id": "9c0f1eb6",
      "metadata": {
        "id": "9c0f1eb6"
      },
      "outputs": [],
      "source": [
        "try_deimport()\n",
        "%run -n mnist_viz_tf.py"
      ]
    },
    {
      "cell_type": "code",
      "execution_count": null,
      "id": "431d80ac",
      "metadata": {
        "id": "431d80ac"
      },
      "outputs": [],
      "source": [
        "try_deimport()\n",
        "%run -n emnist_viz_pytorch.py"
      ]
    },
    {
      "cell_type": "markdown",
      "id": "4e9ae195",
      "metadata": {
        "id": "4e9ae195"
      },
      "source": [
        "## Figure 1.13:<a name='1.13'></a> <a name='CIFAR'></a> "
      ]
    },
    {
      "cell_type": "markdown",
      "id": "d74b86fb",
      "metadata": {
        "id": "d74b86fb"
      },
      "source": [
        "\n",
        "(a) Visualization of the Fashion-MNIST dataset <a href='#fashion'>[XRV17]</a> . The dataset has the same size as MNIST, but is harder to classify. There are 10 classes: T-shirt/top, Trouser, Pullover, Dress, Coat, Sandal, Shirt, Sneaker, Bag, Ankle-boot. We show the first 25 images from the training set.  \n",
        "Figure(s) generated by [fashion_viz_tf.py](https://github.com/probml/pyprobml/blob/master/scripts/fashion_viz_tf.py) [cifar_viz_tf.py](https://github.com/probml/pyprobml/blob/master/scripts/cifar_viz_tf.py) "
      ]
    },
    {
      "cell_type": "code",
      "execution_count": null,
      "metadata": {
        "id": "m08OmPu3nv3b"
      },
      "outputs": [],
      "source": [
        "#@title Click me to run setup { display-mode: \"form\" }\n",
        "try:\n",
        "  if PYPROBML_SETUP_ALREADY_RUN:\n",
        "    print('skipping setup')\n",
        "except:\n",
        "  PYPROBML_SETUP_ALREADY_RUN = True\n",
        "  print('running setup...')\n",
        "  !git clone --depth 1 https://github.com/probml/pyprobml  /pyprobml &> /dev/null \n",
        "  %cd -q /pyprobml/scripts\n",
        "  %reload_ext autoreload \n",
        "  %autoreload 2\n",
        "  !pip install superimport deimport -qqq\n",
        "  import superimport\n",
        "def try_deimport():\n",
        "  try: \n",
        "    from deimport.deimport import deimport\n",
        "    deimport(superimport)\n",
        "  except Exception as e:\n",
        "    print(e)\n",
        "  print('finished!')"
      ],
      "id": "m08OmPu3nv3b"
    },
    {
      "cell_type": "code",
      "execution_count": null,
      "id": "218e018a",
      "metadata": {
        "id": "218e018a"
      },
      "outputs": [],
      "source": [
        "try_deimport()\n",
        "%run -n fashion_viz_tf.py"
      ]
    },
    {
      "cell_type": "code",
      "execution_count": null,
      "id": "d1946c4e",
      "metadata": {
        "id": "d1946c4e"
      },
      "outputs": [],
      "source": [
        "try_deimport()\n",
        "%run -n cifar_viz_tf.py"
      ]
    },
    {
      "cell_type": "markdown",
      "id": "7d1ec039",
      "metadata": {
        "id": "7d1ec039"
      },
      "source": [
        "## Figure 1.14:<a name='1.14'></a> <a name='imagenetError'></a> "
      ]
    },
    {
      "cell_type": "markdown",
      "id": "8086bae5",
      "metadata": {
        "id": "8086bae5"
      },
      "source": [
        "\n",
        "(a) Sample images from the  \\bf ImageNet  dataset <a href='#ILSVRC15'>[Rus+15]</a> . This subset consists of 1.3M color training images, each of which is $256 \\times 256$ pixels in size. There are 1000 possible labels, one per image, and the task is to minimize the top-5 error rate, i.e., to ensure the correct label is within the 5 most probable predictions. Below each image we show the true label, and a distribution over the top 5 predicted labels. If the true label is in the top 5, its probability bar is colored red. Predictions are generated by a convolutional neural network (CNN) called ``AlexNet'' (\\cref sec:alexNet ). From Figure 4 of <a href='#Krizhevsky12'>[KSH12]</a> . Used with kind permission of Alex Krizhevsky. (b) Misclassification rate (top 5) on the ImageNet competition over time. Used with kind permission of Andrej Karpathy"
      ]
    },
    {
      "cell_type": "code",
      "execution_count": null,
      "metadata": {
        "id": "xFtXK0Kunv3c"
      },
      "outputs": [],
      "source": [
        "#@title Click me to run setup { display-mode: \"form\" }\n",
        "try:\n",
        "  if PYPROBML_SETUP_ALREADY_RUN:\n",
        "    print('skipping setup')\n",
        "except:\n",
        "  PYPROBML_SETUP_ALREADY_RUN = True\n",
        "  print('running setup...')\n",
        "  !git clone --depth 1 https://github.com/probml/pyprobml  /pyprobml &> /dev/null \n",
        "  %cd -q /pyprobml/scripts\n",
        "  %reload_ext autoreload \n",
        "  %autoreload 2\n",
        "  !pip install superimport deimport -qqq\n",
        "  import superimport\n",
        "def try_deimport():\n",
        "  try: \n",
        "    from deimport.deimport import deimport\n",
        "    deimport(superimport)\n",
        "  except Exception as e:\n",
        "    print(e)\n",
        "  print('finished!')"
      ],
      "id": "xFtXK0Kunv3c"
    },
    {
      "cell_type": "markdown",
      "id": "773a194e",
      "metadata": {
        "id": "773a194e"
      },
      "source": [
        "<img src=\"https://raw.githubusercontent.com/probml/pml-book/main/pml1/figures/images/Figure_1.14_A.png\" width=\"256\"/>"
      ]
    },
    {
      "cell_type": "markdown",
      "id": "d8dfefa4",
      "metadata": {
        "id": "d8dfefa4"
      },
      "source": [
        "<img src=\"https://raw.githubusercontent.com/probml/pml-book/main/pml1/figures/images/Figure_1.14_B.png\" width=\"256\"/>"
      ]
    },
    {
      "cell_type": "markdown",
      "id": "d592fa0b",
      "metadata": {
        "id": "d592fa0b"
      },
      "source": [
        "## Figure 1.15:<a name='1.15'></a> <a name='termDoc'></a> "
      ]
    },
    {
      "cell_type": "markdown",
      "id": "6b27c413",
      "metadata": {
        "id": "6b27c413"
      },
      "source": [
        "\n",
        " Example of a term-document matrix, where raw counts have been replaced by their TF-IDF values (see \\cref sec:tfidf ). Darker cells are larger values. From  https://bit.ly/2kByLQI . Used with kind permission of Christoph Carl Kling"
      ]
    },
    {
      "cell_type": "code",
      "execution_count": null,
      "metadata": {
        "id": "PbwN7-MHnv3c"
      },
      "outputs": [],
      "source": [
        "#@title Click me to run setup { display-mode: \"form\" }\n",
        "try:\n",
        "  if PYPROBML_SETUP_ALREADY_RUN:\n",
        "    print('skipping setup')\n",
        "except:\n",
        "  PYPROBML_SETUP_ALREADY_RUN = True\n",
        "  print('running setup...')\n",
        "  !git clone --depth 1 https://github.com/probml/pyprobml  /pyprobml &> /dev/null \n",
        "  %cd -q /pyprobml/scripts\n",
        "  %reload_ext autoreload \n",
        "  %autoreload 2\n",
        "  !pip install superimport deimport -qqq\n",
        "  import superimport\n",
        "def try_deimport():\n",
        "  try: \n",
        "    from deimport.deimport import deimport\n",
        "    deimport(superimport)\n",
        "  except Exception as e:\n",
        "    print(e)\n",
        "  print('finished!')"
      ],
      "id": "PbwN7-MHnv3c"
    },
    {
      "cell_type": "markdown",
      "id": "69d31420",
      "metadata": {
        "id": "69d31420"
      },
      "source": [
        "<img src=\"https://raw.githubusercontent.com/probml/pml-book/main/pml1/figures/images/Figure_1.15.png\" width=\"256\"/>"
      ]
    },
    {
      "cell_type": "markdown",
      "id": "1dbd81fb",
      "metadata": {
        "id": "1dbd81fb"
      },
      "source": [
        "## References:\n",
        " <a name='Geron2019'>[Aur19]</a> G. Aur'elien \"Hands-On Machine Learning with Scikit-Learn and TensorFlow: Concepts, Tools, and Techniques for BuildingIntelligent Systems (2nd edition)\". (2019). \n",
        "\n",
        "<a name='Krizhevsky12'>[KSH12]</a> A. Krizhevsky, I. Sutskever and G. Hinton. \"Imagenet classification with deep convolutional neural networks\". (2012). \n",
        "\n",
        "<a name='ILSVRC15'>[Rus+15]</a> O. Russakovsky, J. Deng, H. Su, J. Krause, S. Satheesh, S. Ma, Z. Huang, A. Karpathy, A. Khosla, M. Bernstein, A. Berg and L. Fei-Fei. \"ImageNet Large Scale Visual Recognition Challenge\". In: ijcv (2015). \n",
        "\n",
        "<a name='fashion'>[XRV17]</a> H. Xiao, K. Rasul and R. Vollgraf. \"Fashion-MNIST: a Novel Image Dataset for Benchmarking Machine Learning Algorithms\". abs/1708.07747 (2017). arXiv: 1708.07747 \n",
        "\n"
      ]
    }
  ],
  "metadata": {
    "kernelspec": {
      "display_name": "Python 3",
      "name": "python3"
    },
    "colab": {
      "name": "makine_ogrenmesi",
      "provenance": [],
      "collapsed_sections": [
        "14957330",
        "68c6ad43",
        "80f75049",
        "71c2c8b9",
        "50d278af",
        "8a0de74b",
        "51116c69",
        "4378c8b9",
        "5be84027",
        "4e9ae195",
        "7d1ec039",
        "d592fa0b",
        "1dbd81fb"
      ],
      "include_colab_link": true
    }
  },
  "nbformat": 4,
  "nbformat_minor": 5
}